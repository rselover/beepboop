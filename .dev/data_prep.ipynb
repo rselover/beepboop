{
 "cells": [
  {
   "cell_type": "code",
   "execution_count": 19,
   "metadata": {},
   "outputs": [],
   "source": [
    "import pandas as pd"
   ]
  },
  {
   "cell_type": "code",
   "execution_count": null,
   "metadata": {},
   "outputs": [],
   "source": [
    "import os"
   ]
  },
  {
   "cell_type": "code",
   "execution_count": 29,
   "metadata": {},
   "outputs": [],
   "source": [
    "import requests\n",
    "import json"
   ]
  },
  {
   "cell_type": "code",
   "execution_count": null,
   "metadata": {},
   "outputs": [],
   "source": [
    "df=pd.read_csv('data/'+os.listdir('data')[0])"
   ]
  },
  {
   "cell_type": "code",
   "execution_count": null,
   "metadata": {},
   "outputs": [],
   "source": [
    "df.rename(columns={'#':'House Number'},inplace=True)"
   ]
  },
  {
   "cell_type": "code",
   "execution_count": null,
   "metadata": {},
   "outputs": [],
   "source": [
    "df['json'] = df.apply(lambda x: x.to_json(), axis=1)"
   ]
  },
  {
   "cell_type": "code",
   "execution_count": null,
   "metadata": {},
   "outputs": [],
   "source": [
    "df['Address']=df['House Number']+' '+df['Street Location']"
   ]
  },
  {
   "cell_type": "code",
   "execution_count": null,
   "metadata": {},
   "outputs": [],
   "source": [
    "df['keyed_json']=df['Address']+\": \"+df['json']"
   ]
  },
  {
   "cell_type": "code",
   "execution_count": null,
   "metadata": {},
   "outputs": [],
   "source": [
    "with open(\"data/weston.json\", \"w\") as westondump:\n",
    "    json.dump(df['keyed_json'].tolist(), westondump)"
   ]
  },
  {
   "cell_type": "code",
   "execution_count": 30,
   "metadata": {},
   "outputs": [],
   "source": [
    "url='https://gist.githubusercontent.com/rselover/a82f17ec1a97538080940248880597fe/raw/69c797301be90b135eccc00d2015a28edc630b95/weston.json'"
   ]
  },
  {
   "cell_type": "code",
   "execution_count": 33,
   "metadata": {},
   "outputs": [],
   "source": [
    "data = requests.get(url).json()"
   ]
  },
  {
   "cell_type": "code",
   "execution_count": 36,
   "metadata": {},
   "outputs": [
    {
     "data": {
      "text/plain": [
       "'{\"House Number\":\"1\",\"Street Location\":\"ABERDEEN RD\",\"ELA\":\"2,316\",\"GLA (Above Grade)\":\"2,250\",\"AYB\":1933.0,\"Acres\":0.6,\"FY24 Land Val\":\"$699,900\",\"FY24 Bldg Val\":\"$534,400\",\"FY24 Total Val\":\"$1,234,300\"}'"
      ]
     },
     "execution_count": 36,
     "metadata": {},
     "output_type": "execute_result"
    }
   ],
   "source": [
    "data[0].split(': ')[1]"
   ]
  },
  {
   "cell_type": "code",
   "execution_count": 37,
   "metadata": {},
   "outputs": [
    {
     "name": "stdout",
     "output_type": "stream",
     "text": [
      "             Address House Number Street Location     ELA GLA (Above Grade)  \\\n",
      "0      1 ABERDEEN RD            1     ABERDEEN RD   2,316             2,250   \n",
      "1      4 ABERDEEN RD            4     ABERDEEN RD   1,900             1,700   \n",
      "2      5 ABERDEEN RD            5     ABERDEEN RD   2,899             2,438   \n",
      "3     10 ABERDEEN RD           10     ABERDEEN RD   1,442             1,253   \n",
      "4     14 ABERDEEN RD           14     ABERDEEN RD   6,305             4,845   \n",
      "...              ...          ...             ...     ...               ...   \n",
      "4331     44 YOUNG RD           44        YOUNG RD  10,944             9,096   \n",
      "4332     45 YOUNG RD           45        YOUNG RD   8,148             6,306   \n",
      "4333     47 YOUNG RD           47        YOUNG RD   9,495             6,796   \n",
      "4334     50 YOUNG RD           50        YOUNG RD   3,862             3,292   \n",
      "4335      parcelid_1          NaN             NaN     NaN               NaN   \n",
      "\n",
      "         AYB  Acres FY24 Land Val FY24 Bldg Val FY24 Total Val  \n",
      "0     1933.0   0.60      $699,900      $534,400     $1,234,300  \n",
      "1     1932.0   0.41      $604,800      $191,600       $796,400  \n",
      "2     1939.0   0.48      $755,200      $271,500     $1,026,700  \n",
      "3     1937.0   0.55      $610,800      $167,400       $778,200  \n",
      "4     2013.0   2.15      $559,600    $1,963,600     $2,523,200  \n",
      "...      ...    ...           ...           ...            ...  \n",
      "4331  2006.0   3.10    $1,692,900    $5,292,300     $6,985,200  \n",
      "4332  2002.0   1.39    $1,535,200    $2,951,700     $4,486,900  \n",
      "4333  2010.0   1.81    $1,575,200    $3,777,000     $5,352,200  \n",
      "4334  1968.0   2.43    $1,485,900      $888,700     $2,374,600  \n",
      "4335     NaN    NaN           NaN           NaN            NaN  \n",
      "\n",
      "[4336 rows x 10 columns]\n"
     ]
    }
   ],
   "source": [
    "\n",
    "# Load the JSON data from the URL\n",
    "data = requests.get(url).json()\n",
    "\n",
    "# Initialize an empty list to store the dictionaries\n",
    "dicts = []\n",
    "\n",
    "# Initialize a counter for the parcelid\n",
    "parcelid = 1\n",
    "\n",
    "# Iterate over the list of strings\n",
    "for item in data:\n",
    "    # Check if the item is a string\n",
    "    if isinstance(item, str):\n",
    "        # Split the string into the address and the property details\n",
    "        address, details = item.split(': ', 1)\n",
    "        \n",
    "        # Convert the property details from a string to a dictionary\n",
    "        details_dict = json.loads(details)\n",
    "    else:\n",
    "        # If the item is not a string, assign it a 'parcelid' and increment the parcelid\n",
    "        address = f'parcelid_{parcelid}'\n",
    "        details_dict = {}\n",
    "        parcelid += 1\n",
    "    \n",
    "    # Combine the address and the property details into a single dictionary\n",
    "    combined_dict = {'Address': address, **details_dict}\n",
    "    \n",
    "    # Append this dictionary to the list\n",
    "    dicts.append(combined_dict)\n",
    "\n",
    "# Convert the list of dictionaries into a DataFrame\n",
    "df = pd.DataFrame(dicts)\n",
    "\n",
    "# Print the DataFrame\n",
    "print(df)"
   ]
  },
  {
   "cell_type": "code",
   "execution_count": 38,
   "metadata": {},
   "outputs": [
    {
     "data": {
      "text/html": [
       "<div>\n",
       "<style scoped>\n",
       "    .dataframe tbody tr th:only-of-type {\n",
       "        vertical-align: middle;\n",
       "    }\n",
       "\n",
       "    .dataframe tbody tr th {\n",
       "        vertical-align: top;\n",
       "    }\n",
       "\n",
       "    .dataframe thead th {\n",
       "        text-align: right;\n",
       "    }\n",
       "</style>\n",
       "<table border=\"1\" class=\"dataframe\">\n",
       "  <thead>\n",
       "    <tr style=\"text-align: right;\">\n",
       "      <th></th>\n",
       "      <th>Address</th>\n",
       "      <th>House Number</th>\n",
       "      <th>Street Location</th>\n",
       "      <th>ELA</th>\n",
       "      <th>GLA (Above Grade)</th>\n",
       "      <th>AYB</th>\n",
       "      <th>Acres</th>\n",
       "      <th>FY24 Land Val</th>\n",
       "      <th>FY24 Bldg Val</th>\n",
       "      <th>FY24 Total Val</th>\n",
       "    </tr>\n",
       "  </thead>\n",
       "  <tbody>\n",
       "    <tr>\n",
       "      <th>0</th>\n",
       "      <td>1 ABERDEEN RD</td>\n",
       "      <td>1</td>\n",
       "      <td>ABERDEEN RD</td>\n",
       "      <td>2,316</td>\n",
       "      <td>2,250</td>\n",
       "      <td>1933.0</td>\n",
       "      <td>0.60</td>\n",
       "      <td>$699,900</td>\n",
       "      <td>$534,400</td>\n",
       "      <td>$1,234,300</td>\n",
       "    </tr>\n",
       "    <tr>\n",
       "      <th>1</th>\n",
       "      <td>4 ABERDEEN RD</td>\n",
       "      <td>4</td>\n",
       "      <td>ABERDEEN RD</td>\n",
       "      <td>1,900</td>\n",
       "      <td>1,700</td>\n",
       "      <td>1932.0</td>\n",
       "      <td>0.41</td>\n",
       "      <td>$604,800</td>\n",
       "      <td>$191,600</td>\n",
       "      <td>$796,400</td>\n",
       "    </tr>\n",
       "    <tr>\n",
       "      <th>2</th>\n",
       "      <td>5 ABERDEEN RD</td>\n",
       "      <td>5</td>\n",
       "      <td>ABERDEEN RD</td>\n",
       "      <td>2,899</td>\n",
       "      <td>2,438</td>\n",
       "      <td>1939.0</td>\n",
       "      <td>0.48</td>\n",
       "      <td>$755,200</td>\n",
       "      <td>$271,500</td>\n",
       "      <td>$1,026,700</td>\n",
       "    </tr>\n",
       "    <tr>\n",
       "      <th>3</th>\n",
       "      <td>10 ABERDEEN RD</td>\n",
       "      <td>10</td>\n",
       "      <td>ABERDEEN RD</td>\n",
       "      <td>1,442</td>\n",
       "      <td>1,253</td>\n",
       "      <td>1937.0</td>\n",
       "      <td>0.55</td>\n",
       "      <td>$610,800</td>\n",
       "      <td>$167,400</td>\n",
       "      <td>$778,200</td>\n",
       "    </tr>\n",
       "    <tr>\n",
       "      <th>4</th>\n",
       "      <td>14 ABERDEEN RD</td>\n",
       "      <td>14</td>\n",
       "      <td>ABERDEEN RD</td>\n",
       "      <td>6,305</td>\n",
       "      <td>4,845</td>\n",
       "      <td>2013.0</td>\n",
       "      <td>2.15</td>\n",
       "      <td>$559,600</td>\n",
       "      <td>$1,963,600</td>\n",
       "      <td>$2,523,200</td>\n",
       "    </tr>\n",
       "  </tbody>\n",
       "</table>\n",
       "</div>"
      ],
      "text/plain": [
       "          Address House Number Street Location    ELA GLA (Above Grade)  \\\n",
       "0   1 ABERDEEN RD            1     ABERDEEN RD  2,316             2,250   \n",
       "1   4 ABERDEEN RD            4     ABERDEEN RD  1,900             1,700   \n",
       "2   5 ABERDEEN RD            5     ABERDEEN RD  2,899             2,438   \n",
       "3  10 ABERDEEN RD           10     ABERDEEN RD  1,442             1,253   \n",
       "4  14 ABERDEEN RD           14     ABERDEEN RD  6,305             4,845   \n",
       "\n",
       "      AYB  Acres FY24 Land Val FY24 Bldg Val FY24 Total Val  \n",
       "0  1933.0   0.60      $699,900      $534,400     $1,234,300  \n",
       "1  1932.0   0.41      $604,800      $191,600       $796,400  \n",
       "2  1939.0   0.48      $755,200      $271,500     $1,026,700  \n",
       "3  1937.0   0.55      $610,800      $167,400       $778,200  \n",
       "4  2013.0   2.15      $559,600    $1,963,600     $2,523,200  "
      ]
     },
     "execution_count": 38,
     "metadata": {},
     "output_type": "execute_result"
    }
   ],
   "source": [
    "df.head()"
   ]
  },
  {
   "cell_type": "code",
   "execution_count": null,
   "metadata": {},
   "outputs": [],
   "source": []
  }
 ],
 "metadata": {
  "kernelspec": {
   "display_name": "beepboop",
   "language": "python",
   "name": "beepboop"
  },
  "language_info": {
   "codemirror_mode": {
    "name": "ipython",
    "version": 3
   },
   "file_extension": ".py",
   "mimetype": "text/x-python",
   "name": "python",
   "nbconvert_exporter": "python",
   "pygments_lexer": "ipython3",
   "version": "3.12.3"
  }
 },
 "nbformat": 4,
 "nbformat_minor": 2
}
